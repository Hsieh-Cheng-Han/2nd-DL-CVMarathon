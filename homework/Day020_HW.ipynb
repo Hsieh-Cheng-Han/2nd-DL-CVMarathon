{
 "cells": [
  {
   "cell_type": "code",
   "execution_count": 2,
   "metadata": {},
   "outputs": [],
   "source": [
    "import numpy as np\n",
    "from keras.models import Model\n",
    "from keras.layers import Flatten\n",
    "from keras.layers import Dense\n",
    "from keras.layers import Input\n",
    "from keras.layers import Conv2D\n",
    "from keras.layers import MaxPooling2D\n",
    "from keras.layers import GlobalMaxPooling2D\n",
    "from keras.layers import GlobalAveragePooling2D\n",
    "from keras import backend as K\n",
    "from keras import layers\n",
    "from keras.layers import BatchNormalization\n",
    "from keras.layers import Activation\n",
    "from keras.layers import Concatenate\n",
    "from keras.layers import Lambda"
   ]
  },
  {
   "cell_type": "code",
   "execution_count": 3,
   "metadata": {},
   "outputs": [],
   "source": [
    "def Residual_block(input_tensor, kernel_size, filters, stage, block):\n",
    "    filters1, filters2, filters3 = filters\n",
    "    conv_name_base = 'res' + str(stage) + block + '_branch'\n",
    "    bn_name_base = 'bn' + str(stage) + block + '_branch'\n",
    "\n",
    "    x = Conv2D(filters1, (1, 1), name=conv_name_base + '2a')(input_tensor)\n",
    "    x = BatchNormalization(axis=3, name=bn_name_base + '2a')(x)\n",
    "    x = Activation('relu')(x)\n",
    "\n",
    "    x = Conv2D(filters2, kernel_size,\n",
    "               padding='same', name=conv_name_base + '2b')(x)\n",
    "    x = BatchNormalization(axis=3, name=bn_name_base + '2b')(x)\n",
    "   \n",
    "\n",
    "    x = layers.add([x, input_tensor])\n",
    "    x = Activation('relu')(x)\n",
    "    return x"
   ]
  },
  {
   "cell_type": "markdown",
   "metadata": {},
   "source": [
    "# 參考ResNetV1 搭建 ResNetV2版本的Residual Block"
   ]
  },
  {
   "cell_type": "code",
   "execution_count": 4,
   "metadata": {},
   "outputs": [],
   "source": [
    "def Residual_block_v2(input_tensor, kernel_size, filters, stage, block):\n",
    "    filters1, filters2, filters3 = filters\n",
    "    conv_name_base = 'res' + str(stage) + block + '_branch'\n",
    "    bn_name_base = 'bn' + str(stage) + block + '_branch'\n",
    "\n",
    "    '''搭建V2版本Block'''\n",
    "    x = BatchNormalization(axis=3, name=bn_name_base + '2a')(input_tensor)\n",
    "    x = Activation('relu')(x)\n",
    "    x = Conv2D(filters1, (1, 1), padding='same', name=conv_name_base + '2a')(x)\n",
    "    \n",
    "    x = BatchNormalization(axis=3, name=bn_name_base + '2b')(x)\n",
    "    x = Activation('relu')(x)\n",
    "    x = Conv2D(filters1, (1, 1), padding='same', name=conv_name_base + '2b')(x)\n",
    "    \n",
    "    x = layers.add([x, input_tensor])\n",
    "    return x"
   ]
  },
  {
   "cell_type": "markdown",
   "metadata": {},
   "source": [
    "# Part 2"
   ]
  },
  {
   "cell_type": "code",
   "execution_count": 5,
   "metadata": {},
   "outputs": [],
   "source": [
    "def Conv2d_bn(x,filters,kernel_size,padding='same',strides=(1, 1),normalizer=True,activation='relu',name=None):\n",
    "    if name is not None:\n",
    "        conv_name = name + '_conv'\n",
    "        bn_name = name + '_bn'\n",
    "        act_name = name + '_act'\n",
    "    else:\n",
    "        conv_name = None\n",
    "        bn_name = None\n",
    "        act_name = None\n",
    "    if K.image_data_format() == 'channels_first':\n",
    "        bn_axis = 1\n",
    "    else:\n",
    "        bn_axis = 3\n",
    "    x = Conv2D(\n",
    "            filters, kernel_size,\n",
    "            strides=strides, padding=padding,\n",
    "            use_bias=False, name=conv_name)(x)\n",
    "    if normalizer:\n",
    "        x = BatchNormalization(axis=bn_axis, scale=False, name=bn_name)(x)\n",
    "    if activation:\n",
    "        x = Activation(activation, name=act_name)(x)\n",
    "    return x"
   ]
  },
  {
   "cell_type": "code",
   "execution_count": 6,
   "metadata": {},
   "outputs": [],
   "source": [
    "def Residual_block(input_tensor, kernel_size, filters, stage, block):\n",
    "    filters1, filters2, filters3 = filters\n",
    "    conv_name_base = 'res' + str(stage) + block + '_branch'\n",
    "    bn_name_base = 'bn' + str(stage) + block + '_branch'\n",
    "\n",
    "    x = Conv2D(filters1, (1, 1), name=conv_name_base + '2a')(input_tensor)\n",
    "    x = BatchNormalization(axis=3, name=bn_name_base + '2a')(x)\n",
    "    x = Activation('relu')(x)\n",
    "\n",
    "    x = Conv2D(filters2, kernel_size,\n",
    "               padding='same', name=conv_name_base + '2b')(x)\n",
    "    x = BatchNormalization(axis=3, name=bn_name_base + '2b')(x)\n",
    "    x = Activation('relu')(x)\n",
    "\n",
    "    x = Conv2D(filters3, (1, 1), name=conv_name_base + '2c')(x)\n",
    "    x = BatchNormalization(axis=3, name=bn_name_base + '2c')(x)\n",
    "\n",
    "    x = layers.add([x, input_tensor])\n",
    "    x = Activation('relu')(x)\n",
    "    return x"
   ]
  },
  {
   "cell_type": "markdown",
   "metadata": {},
   "source": [
    "# 參考上方Residual_block搭建 Inception-ResNet中的Inception Block"
   ]
  },
  {
   "cell_type": "code",
   "execution_count": 13,
   "metadata": {},
   "outputs": [],
   "source": [
    "def inception_resnet_block(x, scale, block_type, activation='relu'):\n",
    "    '''scale: scaling factor to scale the residuals (i.e., the output of\n",
    "            passing `x` through an inception module) before adding them\n",
    "            to the shortcut branch. Let `r` be the output from the residual branch,\n",
    "            the output of this block will be `x + scale * r`.(簡單來說就是控制Residual branch的比例)'''\n",
    "    if block_type == 'Incpetion_Block-A':\n",
    "        branch_0 = Conv2D(32, (1, 1))(x)\n",
    "        branch_1 = Conv2D(32, (1, 1))(x)\n",
    "        branch_1 = Conv2D(32, (3, 3), padding='same')(branch_1)\n",
    "        branch_2 = Conv2D(32, (1, 1), )(x)\n",
    "        branch_2 = Conv2D(48, (3, 3), padding='same')(branch_2)\n",
    "        branch_2 = Conv2D(64, (3, 3), padding='same')(branch_2)\n",
    "        branches = [branch_0, branch_1, branch_2]\n",
    "    elif block_type == 'Incpetion_Block-B':\n",
    "        branch_0 = Conv2D(192, (1, 1))(x)\n",
    "        branch_1 = Conv2D(128, (1, 1))(x)\n",
    "        branch_1 = Conv2D(160, (1, 7), padding='same')(branch_1)\n",
    "        branch_1 = Conv2D(192, (7, 1), padding='same')(branch_1)\n",
    "        branches = [branch_0, branch_1]\n",
    "    elif block_type == 'Incpetion_Block-C':\n",
    "        branch_0 = Conv2D(192, (1, 1))(x)\n",
    "        branch_1 = Conv2D(192, (1, 1))(branch_0)\n",
    "        branch_1 = Conv2D(192, (1, 3), padding='same')(branch_1)\n",
    "        branch_1 = Conv2D(192, (3, 1), padding='same')(branch_1)\n",
    "        branches = [branch_0, branch_1]\n",
    "    else:\n",
    "        raise ValueError('Unknown Inception-ResNet block type. '\n",
    "                         'Expects \"block35\", \"block17\" or \"block8\", '\n",
    "                         'but got: ' + str(block_type))\n",
    "    mixed = Concatenate(axis=3)(branches)\n",
    "    \n",
    "    '''確保輸入跟輸出深度相同'''\n",
    "    up = Conv2d_bn(mixed,K.int_shape(x)[3],1,activation=None)\n",
    "    \n",
    "    '''導入殘差結構，並給予權重'''\n",
    "    \n",
    "    x = Lambda(lambda inputs, scale: inputs[0] + inputs[1] * scale, ##提示inputs[0]、inputs[1]\n",
    "               output_shape=K.int_shape(x)[1:],\n",
    "               arguments={'scale': scale},)([x,up])\n",
    "    \n",
    "    if activation is not None:\n",
    "        x = Activation(activation)(x)\n",
    "    return x"
   ]
  },
  {
   "cell_type": "markdown",
   "metadata": {},
   "source": [
    "# 測試"
   ]
  },
  {
   "cell_type": "code",
   "execution_count": 15,
   "metadata": {},
   "outputs": [
    {
     "name": "stdout",
     "output_type": "stream",
     "text": [
      "Tensor(\"activation_4/Relu:0\", shape=(?, 224, 224, 32), dtype=float32)\n"
     ]
    }
   ],
   "source": [
    "img_input = Input(shape=(224,224,32))\n",
    "x=inception_resnet_block(img_input, 0.1, 'Incpetion_Block-A', activation='relu')\n",
    "print(x)"
   ]
  },
  {
   "cell_type": "code",
   "execution_count": 11,
   "metadata": {},
   "outputs": [
    {
     "name": "stdout",
     "output_type": "stream",
     "text": [
      "Tensor(\"activation_2/Relu:0\", shape=(?, 224, 224, 32), dtype=float32)\n"
     ]
    }
   ],
   "source": [
    "img_input = Input(shape=(224,224,32))\n",
    "x=inception_resnet_block(img_input, 0.1, 'Incpetion_Block-B', activation='relu')\n",
    "print(x)"
   ]
  },
  {
   "cell_type": "code",
   "execution_count": 14,
   "metadata": {},
   "outputs": [
    {
     "name": "stdout",
     "output_type": "stream",
     "text": [
      "Tensor(\"activation_3/Relu:0\", shape=(?, 224, 224, 32), dtype=float32)\n"
     ]
    }
   ],
   "source": [
    "img_input = Input(shape=(224,224,32))\n",
    "x=inception_resnet_block(img_input, 0.1, 'Incpetion_Block-C', activation='relu')\n",
    "print(x)"
   ]
  }
 ],
 "metadata": {
  "kernelspec": {
   "display_name": "Python 3",
   "language": "python",
   "name": "python3"
  },
  "language_info": {
   "codemirror_mode": {
    "name": "ipython",
    "version": 3
   },
   "file_extension": ".py",
   "mimetype": "text/x-python",
   "name": "python",
   "nbconvert_exporter": "python",
   "pygments_lexer": "ipython3",
   "version": "3.6.8"
  }
 },
 "nbformat": 4,
 "nbformat_minor": 2
}
