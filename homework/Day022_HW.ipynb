{
  "nbformat": 4,
  "nbformat_minor": 0,
  "metadata": {
    "colab": {
      "name": "Day022_HW.ipynb",
      "provenance": []
    },
    "kernelspec": {
      "name": "python3",
      "display_name": "Python 3"
    },
    "accelerator": "GPU"
  },
  "cells": [
    {
      "cell_type": "code",
      "metadata": {
        "id": "oz6AGY05tC4n",
        "colab_type": "code",
        "colab": {
          "base_uri": "https://localhost:8080/",
          "height": 141
        },
        "outputId": "0c067788-5bad-4190-94e6-632f3790949b"
      },
      "source": [
        "!pip install captcha"
      ],
      "execution_count": 1,
      "outputs": [
        {
          "output_type": "stream",
          "text": [
            "Collecting captcha\n",
            "\u001b[?25l  Downloading https://files.pythonhosted.org/packages/90/fe/d4ddf1e6576073b5eaea76e9b2afa022c626212a30c871968480be3ccb7b/captcha-0.3-py3-none-any.whl (101kB)\n",
            "\r\u001b[K     |███▎                            | 10kB 29.7MB/s eta 0:00:01\r\u001b[K     |██████▌                         | 20kB 3.1MB/s eta 0:00:01\r\u001b[K     |█████████▊                      | 30kB 4.6MB/s eta 0:00:01\r\u001b[K     |█████████████                   | 40kB 3.0MB/s eta 0:00:01\r\u001b[K     |████████████████▏               | 51kB 3.7MB/s eta 0:00:01\r\u001b[K     |███████████████████▍            | 61kB 4.4MB/s eta 0:00:01\r\u001b[K     |██████████████████████▋         | 71kB 5.1MB/s eta 0:00:01\r\u001b[K     |█████████████████████████▉      | 81kB 5.7MB/s eta 0:00:01\r\u001b[K     |█████████████████████████████   | 92kB 6.4MB/s eta 0:00:01\r\u001b[K     |████████████████████████████████| 102kB 3.8MB/s \n",
            "\u001b[?25hRequirement already satisfied: Pillow in /usr/local/lib/python3.6/dist-packages (from captcha) (7.0.0)\n",
            "Installing collected packages: captcha\n",
            "Successfully installed captcha-0.3\n"
          ],
          "name": "stdout"
        }
      ]
    },
    {
      "cell_type": "markdown",
      "metadata": {
        "id": "7kD5kkrZtO7c",
        "colab_type": "text"
      },
      "source": [
        "# 產生驗證碼"
      ]
    },
    {
      "cell_type": "code",
      "metadata": {
        "id": "e1MVc3ePtQUS",
        "colab_type": "code",
        "colab": {
          "base_uri": "https://localhost:8080/",
          "height": 255
        },
        "outputId": "801f687f-0aee-4876-bbc6-098522dd896f"
      },
      "source": [
        "from captcha.image import ImageCaptcha\n",
        "import matplotlib.pyplot as plt\n",
        "import numpy as np\n",
        "import random\n",
        "\n",
        "%matplotlib inline\n",
        "%config InlineBackend.figure_format = 'retina'\n",
        "\n",
        "import string\n",
        "##驗證碼包含0-10數字以及26個英文字母\n",
        "characters = string.digits + string.ascii_uppercase\n",
        "print(characters)\n",
        "\n",
        "##設定產生圖片尺寸，以及總類別，n_class之所以要加一是為了留一個位置給Blank\n",
        "width, height, n_len, n_class = 170, 80, 4, len(characters)+1\n",
        "\n",
        "##設定產生驗證碼的generator\n",
        "generator = ImageCaptcha(width=width, height=height)\n",
        "\n",
        "##我們先練習固定長度4個字的驗證碼\n",
        "random_str = ''.join([random.choice(characters) for j in range(4)])\n",
        "img = generator.generate_image(random_str)\n",
        "\n",
        "plt.imshow(img)\n",
        "plt.title(random_str)"
      ],
      "execution_count": 2,
      "outputs": [
        {
          "output_type": "stream",
          "text": [
            "0123456789ABCDEFGHIJKLMNOPQRSTUVWXYZ\n"
          ],
          "name": "stdout"
        },
        {
          "output_type": "execute_result",
          "data": {
            "text/plain": [
              "Text(0.5, 1.0, 'D76G')"
            ]
          },
          "metadata": {
            "tags": []
          },
          "execution_count": 2
        },
        {
          "output_type": "display_data",
          "data": {
            "image/png": "[encoded data removed]",
            "text/plain": [
              "<Figure size 432x288 with 1 Axes>"
            ]
          },
          "metadata": {
            "tags": [],
            "image/png": {
              "width": 369,
              "height": 203
            }
          }
        }
      ]
    },
    {
      "cell_type": "markdown",
      "metadata": {
        "id": "mPZGGU3dthQ5",
        "colab_type": "text"
      },
      "source": [
        "# 自己搭建一個CNN模型使得output feature Map 高度被壓縮成小於4，8<寬度<20"
      ]
    },
    {
      "cell_type": "code",
      "metadata": {
        "id": "-9Mthxmuwqlm",
        "colab_type": "code",
        "colab": {}
      },
      "source": [
        "from keras import backend as K\n",
        "import keras\n",
        "\n",
        "##CTC Loss需要四個資訊，分別是\n",
        "## Label\n",
        "## 預測\n",
        "## CNN OUTPUT寬度\n",
        "## 預測影像所包含文字長度\n",
        "def ctc_lambda_func(args):\n",
        "    y_pred, labels, input_length, label_length = args\n",
        "    return K.ctc_batch_cost(labels, y_pred, input_length, label_length)"
      ],
      "execution_count": 0,
      "outputs": []
    },
    {
      "cell_type": "code",
      "metadata": {
        "id": "OMeoN2v7tbCJ",
        "colab_type": "code",
        "colab": {
          "base_uri": "https://localhost:8080/",
          "height": 72
        },
        "outputId": "7d5e88ad-8c24-4392-9ffc-aa22ba879fda"
      },
      "source": [
        "from keras.models import *\n",
        "from keras.layers import *\n",
        "from keras.backend import ctc_batch_cost\n",
        "\n",
        "rnn_size = 128\n",
        "\n",
        "input_tensor = Input((height,width, 3))\n",
        "x = input_tensor\n",
        "\n",
        "#自己設計CNN層\n",
        "\n",
        "classifier=Sequential()\n",
        "\n",
        "#卷積組合\n",
        "classifier.add(Convolution2D(filters = 32, kernel_size = (3, 3), padding = 'same',input_shape = (height,width, 3), activation='relu'))\n",
        "classifier.add(BatchNormalization())\n",
        "classifier.add(MaxPooling2D(pool_size=(2,2)))\n",
        "\n",
        "#卷積組合\n",
        "classifier.add(Convolution2D(filters = 64, kernel_size = (3, 3), padding = 'same', activation='relu'))\n",
        "classifier.add(BatchNormalization())\n",
        "\n",
        "#卷積組合\n",
        "classifier.add(Convolution2D(filters = 128, kernel_size = (3, 3), padding = 'same', activation='relu'))\n",
        "classifier.add(MaxPooling2D(pool_size=(2,2)))\n",
        "classifier.add(BatchNormalization())\n",
        "\n",
        "#卷積組合\n",
        "classifier.add(Convolution2D(filters = 256, kernel_size = (3, 3), padding = 'same', activation='relu'))\n",
        "classifier.add(MaxPooling2D(pool_size=(2,2)))\n",
        "classifier.add(BatchNormalization())\n",
        "\n",
        "#卷積組合\n",
        "classifier.add(Convolution2D(filters = 512, kernel_size = (3, 3), padding = 'same', activation='relu'))\n",
        "classifier.add(MaxPooling2D(pool_size=(3,2)))\n",
        "classifier.add(BatchNormalization())\n",
        "\n",
        "x = classifier(x)\n",
        "#記錄輸出CNN尺寸，loss部分需要這個資訊\n",
        "##conv_shape=(Batch_size,輸出高度,輸出寬度,輸出深度)\n",
        "conv_shape = x.get_shape()\n",
        "\n",
        "##從(Batch_size,輸出高度,輸出寬度,輸出深度)變成(Batch_size,輸出寬度,輸出深度*輸出高度)，以符合ctc loss需求\n",
        "x = Reshape(target_shape=(int(conv_shape[2]), int(conv_shape[1]*conv_shape[3])))(x)\n",
        "\n",
        "x = Dense(150, activation='relu')(x)\n",
        "\n",
        "x = Dropout(0.25)(x)\n",
        "x = Dense(n_class, activation='softmax')(x)\n",
        "\n",
        "\n",
        "##包裝用來預測的model\n",
        "base_model = Model(input=input_tensor, output=x)\n",
        "\n",
        "\n",
        "##設定要給CTC Loss的資訊\n",
        "labels = Input(name='the_labels', shape=[n_len], dtype='float32')\n",
        "input_length = Input(name='input_length', shape=[1], dtype='int64')\n",
        "label_length = Input(name='label_length', shape=[1], dtype='int64')\n",
        "loss_out = Lambda(ctc_lambda_func, output_shape=(1,), \n",
        "                  name='ctc')([x, labels, input_length, label_length])\n",
        "\n",
        "##這裡的model是用來計算loss\n",
        "model = Model(input=[input_tensor, labels, input_length, label_length], output=[loss_out])\n",
        "\n",
        "##之所以要lambda y_true, y_pred: y_pred是因為我們的loss已經包在網路裡，會output:y_true, y_pred，而我們只需要y_pred\n",
        "model.compile(loss={'ctc': lambda y_true, y_pred: y_pred}, optimizer='SGD')"
      ],
      "execution_count": 14,
      "outputs": [
        {
          "output_type": "stream",
          "text": [
            "/usr/local/lib/python3.6/dist-packages/ipykernel_launcher.py:53: UserWarning: Update your `Model` call to the Keras 2 API: `Model(inputs=Tensor(\"in..., outputs=Tensor(\"de...)`\n",
            "/usr/local/lib/python3.6/dist-packages/ipykernel_launcher.py:64: UserWarning: Update your `Model` call to the Keras 2 API: `Model(inputs=[<tf.Tenso..., outputs=[<tf.Tenso...)`\n"
          ],
          "name": "stderr"
        }
      ]
    },
    {
      "cell_type": "code",
      "metadata": {
        "id": "HXwRq71buZBj",
        "colab_type": "code",
        "colab": {
          "base_uri": "https://localhost:8080/",
          "height": 575
        },
        "outputId": "e5c7844e-4a92-43c4-b160-a37b7154be2e"
      },
      "source": [
        "model.summary()"
      ],
      "execution_count": 15,
      "outputs": [
        {
          "output_type": "stream",
          "text": [
            "Model: \"model_6\"\n",
            "__________________________________________________________________________________________________\n",
            "Layer (type)                    Output Shape         Param #     Connected to                     \n",
            "==================================================================================================\n",
            "input_10 (InputLayer)           (None, 80, 170, 3)   0                                            \n",
            "__________________________________________________________________________________________________\n",
            "sequential_10 (Sequential)      (None, 3, 10, 512)   1572544     input_10[0][0]                   \n",
            "__________________________________________________________________________________________________\n",
            "reshape_4 (Reshape)             (None, 10, 1536)     0           sequential_10[1][0]              \n",
            "__________________________________________________________________________________________________\n",
            "dense_7 (Dense)                 (None, 10, 150)      230550      reshape_4[0][0]                  \n",
            "__________________________________________________________________________________________________\n",
            "dropout_4 (Dropout)             (None, 10, 150)      0           dense_7[0][0]                    \n",
            "__________________________________________________________________________________________________\n",
            "dense_8 (Dense)                 (None, 10, 37)       5587        dropout_4[0][0]                  \n",
            "__________________________________________________________________________________________________\n",
            "the_labels (InputLayer)         (None, 4)            0                                            \n",
            "__________________________________________________________________________________________________\n",
            "input_length (InputLayer)       (None, 1)            0                                            \n",
            "__________________________________________________________________________________________________\n",
            "label_length (InputLayer)       (None, 1)            0                                            \n",
            "__________________________________________________________________________________________________\n",
            "ctc (Lambda)                    (None, 1)            0           dense_8[0][0]                    \n",
            "                                                                 the_labels[0][0]                 \n",
            "                                                                 input_length[0][0]               \n",
            "                                                                 label_length[0][0]               \n",
            "==================================================================================================\n",
            "Total params: 1,808,681\n",
            "Trainable params: 1,806,697\n",
            "Non-trainable params: 1,984\n",
            "__________________________________________________________________________________________________\n"
          ],
          "name": "stdout"
        }
      ]
    },
    {
      "cell_type": "code",
      "metadata": {
        "id": "M8B3Rz_hwivd",
        "colab_type": "code",
        "colab": {}
      },
      "source": [
        "##設計generator產生training data\n",
        "## 產生包含要給loss的資訊\n",
        "## X=輸入影像\n",
        "## np.ones(batch_size)*int(conv_shape[2])=CNN輸出feature Map寬度\n",
        "## np.ones(batch_size)*n_len=字串長度(可浮動)\n",
        "\n",
        "def gen(batch_size=128):\n",
        "    X = np.zeros((batch_size,height, width, 3), dtype=np.uint8)\n",
        "    y = np.zeros((batch_size, n_len), dtype=np.uint8)\n",
        "    while True:\n",
        "        generator = ImageCaptcha(width=width, height=height)\n",
        "        for i in range(batch_size):\n",
        "            random_str = ''.join([random.choice(characters) for j in range(4)])\n",
        "            X[i] = np.array(generator.generate_image(random_str))\n",
        "            y[i] = [characters.find(x) for x in random_str]\n",
        "        yield [X, y,np.ones(batch_size)*int(conv_shape[2]), np.ones(batch_size)*n_len], np.ones(batch_size)"
      ],
      "execution_count": 0,
      "outputs": []
    },
    {
      "cell_type": "code",
      "metadata": {
        "id": "N69m0OCEwxCN",
        "colab_type": "code",
        "colab": {
          "base_uri": "https://localhost:8080/",
          "height": 260
        },
        "outputId": "b7173bf6-8355-438d-b391-21f3a5c9f8f4"
      },
      "source": [
        "next_ge=gen(batch_size=1)\n",
        "test_ge=next(next_ge)\n",
        "plt.imshow(test_ge[0][0][0])\n",
        "print('Label: ',test_ge[0][1])\n",
        "print('CNN輸出寬度: ',test_ge[0][2])\n",
        "print('字串長度(可浮動): ',test_ge[0][3])"
      ],
      "execution_count": 17,
      "outputs": [
        {
          "output_type": "stream",
          "text": [
            "Label:  [[33 20 27  9]]\n",
            "CNN輸出寬度:  [10.]\n",
            "字串長度(可浮動):  [4.]\n"
          ],
          "name": "stdout"
        },
        {
          "output_type": "display_data",
          "data": {
            "image/png": "[encoded data removed]",
            "text/plain": [
              "<Figure size 432x288 with 1 Axes>"
            ]
          },
          "metadata": {
            "tags": [],
            "image/png": {
              "width": 369,
              "height": 191
            }
          }
        }
      ]
    },
    {
      "cell_type": "code",
      "metadata": {
        "id": "Sh0_r3ESwz6J",
        "colab_type": "code",
        "colab": {
          "base_uri": "https://localhost:8080/",
          "height": 1000
        },
        "outputId": "92d09f55-3f22-49e0-f9ae-0f383dffb8e3"
      },
      "source": [
        "model.fit_generator(gen(32), steps_per_epoch=300, epochs=60)"
      ],
      "execution_count": 18,
      "outputs": [
        {
          "output_type": "stream",
          "text": [
            "WARNING:tensorflow:From /usr/local/lib/python3.6/dist-packages/keras/backend/tensorflow_backend.py:1033: The name tf.assign_add is deprecated. Please use tf.compat.v1.assign_add instead.\n",
            "\n",
            "WARNING:tensorflow:From /usr/local/lib/python3.6/dist-packages/keras/backend/tensorflow_backend.py:1020: The name tf.assign is deprecated. Please use tf.compat.v1.assign instead.\n",
            "\n",
            "Epoch 1/60\n",
            "300/300 [==============================] - 53s 176ms/step - loss: 14.8457\n",
            "Epoch 2/60\n",
            "300/300 [==============================] - 44s 145ms/step - loss: 12.3543\n",
            "Epoch 3/60\n",
            "300/300 [==============================] - 44s 145ms/step - loss: 10.2970\n",
            "Epoch 4/60\n",
            "300/300 [==============================] - 44s 145ms/step - loss: 9.2244\n",
            "Epoch 5/60\n",
            "300/300 [==============================] - 44s 147ms/step - loss: 8.4538\n",
            "Epoch 6/60\n",
            "300/300 [==============================] - 43s 145ms/step - loss: 7.9157\n",
            "Epoch 7/60\n",
            "300/300 [==============================] - 43s 144ms/step - loss: 7.5133\n",
            "Epoch 8/60\n",
            "300/300 [==============================] - 43s 144ms/step - loss: 7.1508\n",
            "Epoch 9/60\n",
            "300/300 [==============================] - 43s 145ms/step - loss: 6.8654\n",
            "Epoch 10/60\n",
            "300/300 [==============================] - 43s 144ms/step - loss: 6.3696\n",
            "Epoch 11/60\n",
            "300/300 [==============================] - 43s 144ms/step - loss: 6.0366\n",
            "Epoch 12/60\n",
            "300/300 [==============================] - 43s 144ms/step - loss: 5.7099\n",
            "Epoch 13/60\n",
            "300/300 [==============================] - 43s 144ms/step - loss: 5.3880\n",
            "Epoch 14/60\n",
            "300/300 [==============================] - 43s 144ms/step - loss: 5.2742\n",
            "Epoch 15/60\n",
            "300/300 [==============================] - 43s 145ms/step - loss: 5.0056\n",
            "Epoch 16/60\n",
            "300/300 [==============================] - 43s 144ms/step - loss: 4.8276\n",
            "Epoch 17/60\n",
            "300/300 [==============================] - 43s 143ms/step - loss: 4.6958\n",
            "Epoch 18/60\n",
            "300/300 [==============================] - 43s 144ms/step - loss: 4.4826\n",
            "Epoch 19/60\n",
            "300/300 [==============================] - 43s 142ms/step - loss: 4.4167\n",
            "Epoch 20/60\n",
            "300/300 [==============================] - 43s 144ms/step - loss: 4.2316\n",
            "Epoch 21/60\n",
            "300/300 [==============================] - 43s 143ms/step - loss: 4.1113\n",
            "Epoch 22/60\n",
            "300/300 [==============================] - 43s 144ms/step - loss: 3.9918\n",
            "Epoch 23/60\n",
            "300/300 [==============================] - 43s 144ms/step - loss: 3.9946\n",
            "Epoch 24/60\n",
            "300/300 [==============================] - 43s 145ms/step - loss: 3.8435\n",
            "Epoch 25/60\n",
            "300/300 [==============================] - 43s 145ms/step - loss: 3.7440\n",
            "Epoch 26/60\n",
            "300/300 [==============================] - 43s 144ms/step - loss: 3.6340\n",
            "Epoch 27/60\n",
            "300/300 [==============================] - 43s 145ms/step - loss: 3.6263\n",
            "Epoch 28/60\n",
            "300/300 [==============================] - 43s 143ms/step - loss: 3.5456\n",
            "Epoch 29/60\n",
            "300/300 [==============================] - 43s 143ms/step - loss: 3.4113\n",
            "Epoch 30/60\n",
            "300/300 [==============================] - 43s 143ms/step - loss: 3.3529\n",
            "Epoch 31/60\n",
            "300/300 [==============================] - 43s 144ms/step - loss: 3.2756\n",
            "Epoch 32/60\n",
            "300/300 [==============================] - 44s 145ms/step - loss: 3.2129\n",
            "Epoch 33/60\n",
            "300/300 [==============================] - 43s 145ms/step - loss: 3.1996\n",
            "Epoch 34/60\n",
            "300/300 [==============================] - 44s 146ms/step - loss: 3.0710\n",
            "Epoch 35/60\n",
            "300/300 [==============================] - 44s 146ms/step - loss: 3.1499\n",
            "Epoch 36/60\n",
            "300/300 [==============================] - 43s 144ms/step - loss: 3.0298\n",
            "Epoch 37/60\n",
            "300/300 [==============================] - 43s 143ms/step - loss: 3.0187\n",
            "Epoch 38/60\n",
            "300/300 [==============================] - 42s 142ms/step - loss: 2.9474\n",
            "Epoch 39/60\n",
            "300/300 [==============================] - 42s 141ms/step - loss: 2.9094\n",
            "Epoch 40/60\n",
            "300/300 [==============================] - 42s 141ms/step - loss: 2.8787\n",
            "Epoch 41/60\n",
            "300/300 [==============================] - 43s 142ms/step - loss: 2.7784\n",
            "Epoch 42/60\n",
            "300/300 [==============================] - 42s 141ms/step - loss: 2.7896\n",
            "Epoch 43/60\n",
            "300/300 [==============================] - 42s 140ms/step - loss: 2.8557\n",
            "Epoch 44/60\n",
            "300/300 [==============================] - 42s 140ms/step - loss: 2.7963\n",
            "Epoch 45/60\n",
            "300/300 [==============================] - 42s 139ms/step - loss: 2.7272\n",
            "Epoch 46/60\n",
            "300/300 [==============================] - 42s 140ms/step - loss: 2.7065\n",
            "Epoch 47/60\n",
            "300/300 [==============================] - 41s 138ms/step - loss: 2.7055\n",
            "Epoch 48/60\n",
            "300/300 [==============================] - 42s 139ms/step - loss: 2.7035\n",
            "Epoch 49/60\n",
            "300/300 [==============================] - 42s 139ms/step - loss: 2.6399\n",
            "Epoch 50/60\n",
            "300/300 [==============================] - 42s 140ms/step - loss: 2.5605\n",
            "Epoch 51/60\n",
            "300/300 [==============================] - 42s 139ms/step - loss: 2.5776\n",
            "Epoch 52/60\n",
            "300/300 [==============================] - 42s 140ms/step - loss: 2.5310\n",
            "Epoch 53/60\n",
            "300/300 [==============================] - 42s 140ms/step - loss: 2.5494\n",
            "Epoch 54/60\n",
            "300/300 [==============================] - 42s 139ms/step - loss: 2.5182\n",
            "Epoch 55/60\n",
            "300/300 [==============================] - 42s 139ms/step - loss: 2.4709\n",
            "Epoch 56/60\n",
            "300/300 [==============================] - 42s 140ms/step - loss: 2.5417\n",
            "Epoch 57/60\n",
            "300/300 [==============================] - 42s 139ms/step - loss: 2.4194\n",
            "Epoch 58/60\n",
            "300/300 [==============================] - 42s 140ms/step - loss: 2.3837\n",
            "Epoch 59/60\n",
            "300/300 [==============================] - 42s 139ms/step - loss: 2.4141\n",
            "Epoch 60/60\n",
            "300/300 [==============================] - 42s 140ms/step - loss: 2.3959\n"
          ],
          "name": "stdout"
        },
        {
          "output_type": "execute_result",
          "data": {
            "text/plain": [
              "<keras.callbacks.History at 0x7fe06245efd0>"
            ]
          },
          "metadata": {
            "tags": []
          },
          "execution_count": 18
        }
      ]
    },
    {
      "cell_type": "markdown",
      "metadata": {
        "id": "rsRpL0Y6ybWX",
        "colab_type": "text"
      },
      "source": [
        "# 預測"
      ]
    },
    {
      "cell_type": "code",
      "metadata": {
        "id": "k-W7_Ny8w4Tb",
        "colab_type": "code",
        "colab": {
          "base_uri": "https://localhost:8080/",
          "height": 234
        },
        "outputId": "cd5227ef-7595-40a5-8e55-4ea90d05742d"
      },
      "source": [
        "characters2 = characters + ' '\n",
        "[X_test, y_test, _, _], _  = next(gen(1))\n",
        "y_pred = base_model.predict(X_test)\n",
        "##用ctc_decode得到解答，自己寫可以參考下方\n",
        "out = K.get_value(K.ctc_decode(y_pred, input_length=np.ones(y_pred.shape[0])*y_pred.shape[1], )[0][0])\n",
        "out = ''.join([characters[x] for x in out[0]])\n",
        "y_true = ''.join([characters[x] for x in y_test[0]])\n",
        "\n",
        "plt.imshow(X_test[0])\n",
        "plt.title('pred:' + str(out) + '\\ntrue: ' + str(y_true))\n",
        "\n",
        "argmax = np.argmax(y_pred, axis=2)[0]"
      ],
      "execution_count": 19,
      "outputs": [
        {
          "output_type": "display_data",
          "data": {
            "image/png": "[encoded data removed]",
            "text/plain": [
              "<Figure size 432x288 with 1 Axes>"
            ]
          },
          "metadata": {
            "tags": [],
            "image/png": {
              "width": 369,
              "height": 217
            }
          }
        }
      ]
    },
    {
      "cell_type": "code",
      "metadata": {
        "id": "dtgiWkvU68f-",
        "colab_type": "code",
        "colab": {}
      },
      "source": [
        ""
      ],
      "execution_count": 0,
      "outputs": []
    }
  ]
}